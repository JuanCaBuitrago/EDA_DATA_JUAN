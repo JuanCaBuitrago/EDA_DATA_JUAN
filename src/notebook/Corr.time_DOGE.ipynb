{
 "cells": [
  {
   "cell_type": "code",
   "execution_count": 6,
   "metadata": {},
   "outputs": [],
   "source": [
    "import pandas as pd\n",
    "import matplotlib as plt\n",
    "import matplotlib.pyplot as plt\n",
    "import glob \n",
    "import matplotlib.dates as mdates\n",
    "import seaborn as sns\n",
    "from scipy.stats import pearsonr"
   ]
  },
  {
   "cell_type": "code",
   "execution_count": 10,
   "metadata": {},
   "outputs": [],
   "source": [
    "df_bitcoin=pd.read_csv(r\"C:\\Users\\Usuario\\Documents\\Proyecto EDA\\src\\data\\coin_Bitcoin.csv\") \n",
    "\n",
    "df_dogecoin=pd.read_csv(r\"C:\\Users\\Usuario\\Documents\\Proyecto EDA\\src\\data\\coin_Dogecoin.csv\")\n"
   ]
  },
  {
   "cell_type": "code",
   "execution_count": 8,
   "metadata": {},
   "outputs": [],
   "source": [
    "df_dogecoin['Date']= pd.to_datetime(df_dogecoin['Date'])\n",
    "#df_dogecoin.set_index('Date', inplace=True)"
   ]
  },
  {
   "cell_type": "code",
   "execution_count": 9,
   "metadata": {},
   "outputs": [
    {
     "data": {
      "text/html": [
       "<div>\n",
       "<style scoped>\n",
       "    .dataframe tbody tr th:only-of-type {\n",
       "        vertical-align: middle;\n",
       "    }\n",
       "\n",
       "    .dataframe tbody tr th {\n",
       "        vertical-align: top;\n",
       "    }\n",
       "\n",
       "    .dataframe thead th {\n",
       "        text-align: right;\n",
       "    }\n",
       "</style>\n",
       "<table border=\"1\" class=\"dataframe\">\n",
       "  <thead>\n",
       "    <tr style=\"text-align: right;\">\n",
       "      <th></th>\n",
       "      <th>SNo</th>\n",
       "      <th>Name</th>\n",
       "      <th>Symbol</th>\n",
       "      <th>Date</th>\n",
       "      <th>High</th>\n",
       "      <th>Low</th>\n",
       "      <th>Open</th>\n",
       "      <th>Close</th>\n",
       "      <th>Volume</th>\n",
       "      <th>Marketcap</th>\n",
       "    </tr>\n",
       "  </thead>\n",
       "  <tbody>\n",
       "    <tr>\n",
       "      <th>0</th>\n",
       "      <td>1</td>\n",
       "      <td>Dogecoin</td>\n",
       "      <td>DOGE</td>\n",
       "      <td>2013-12-16 23:59:59</td>\n",
       "      <td>0.000866</td>\n",
       "      <td>0.000150</td>\n",
       "      <td>0.000299</td>\n",
       "      <td>0.000205</td>\n",
       "      <td>0.0</td>\n",
       "      <td>1.509085e+06</td>\n",
       "    </tr>\n",
       "    <tr>\n",
       "      <th>1</th>\n",
       "      <td>2</td>\n",
       "      <td>Dogecoin</td>\n",
       "      <td>DOGE</td>\n",
       "      <td>2013-12-17 23:59:59</td>\n",
       "      <td>0.000289</td>\n",
       "      <td>0.000116</td>\n",
       "      <td>0.000207</td>\n",
       "      <td>0.000269</td>\n",
       "      <td>0.0</td>\n",
       "      <td>2.169688e+06</td>\n",
       "    </tr>\n",
       "    <tr>\n",
       "      <th>2</th>\n",
       "      <td>3</td>\n",
       "      <td>Dogecoin</td>\n",
       "      <td>DOGE</td>\n",
       "      <td>2013-12-18 23:59:59</td>\n",
       "      <td>0.000362</td>\n",
       "      <td>0.000205</td>\n",
       "      <td>0.000267</td>\n",
       "      <td>0.000362</td>\n",
       "      <td>0.0</td>\n",
       "      <td>3.188943e+06</td>\n",
       "    </tr>\n",
       "    <tr>\n",
       "      <th>3</th>\n",
       "      <td>4</td>\n",
       "      <td>Dogecoin</td>\n",
       "      <td>DOGE</td>\n",
       "      <td>2013-12-19 23:59:59</td>\n",
       "      <td>0.001520</td>\n",
       "      <td>0.000328</td>\n",
       "      <td>0.000395</td>\n",
       "      <td>0.001162</td>\n",
       "      <td>0.0</td>\n",
       "      <td>1.115034e+07</td>\n",
       "    </tr>\n",
       "    <tr>\n",
       "      <th>4</th>\n",
       "      <td>5</td>\n",
       "      <td>Dogecoin</td>\n",
       "      <td>DOGE</td>\n",
       "      <td>2013-12-20 23:59:59</td>\n",
       "      <td>0.001143</td>\n",
       "      <td>0.000662</td>\n",
       "      <td>0.001143</td>\n",
       "      <td>0.000704</td>\n",
       "      <td>0.0</td>\n",
       "      <td>7.284337e+06</td>\n",
       "    </tr>\n",
       "  </tbody>\n",
       "</table>\n",
       "</div>"
      ],
      "text/plain": [
       "   SNo      Name Symbol                Date      High       Low      Open  \\\n",
       "0    1  Dogecoin   DOGE 2013-12-16 23:59:59  0.000866  0.000150  0.000299   \n",
       "1    2  Dogecoin   DOGE 2013-12-17 23:59:59  0.000289  0.000116  0.000207   \n",
       "2    3  Dogecoin   DOGE 2013-12-18 23:59:59  0.000362  0.000205  0.000267   \n",
       "3    4  Dogecoin   DOGE 2013-12-19 23:59:59  0.001520  0.000328  0.000395   \n",
       "4    5  Dogecoin   DOGE 2013-12-20 23:59:59  0.001143  0.000662  0.001143   \n",
       "\n",
       "      Close  Volume     Marketcap  \n",
       "0  0.000205     0.0  1.509085e+06  \n",
       "1  0.000269     0.0  2.169688e+06  \n",
       "2  0.000362     0.0  3.188943e+06  \n",
       "3  0.001162     0.0  1.115034e+07  \n",
       "4  0.000704     0.0  7.284337e+06  "
      ]
     },
     "execution_count": 9,
     "metadata": {},
     "output_type": "execute_result"
    }
   ],
   "source": [
    "df_dogecoin.head()"
   ]
  },
  {
   "cell_type": "code",
   "execution_count": 11,
   "metadata": {},
   "outputs": [
    {
     "name": "stdout",
     "output_type": "stream",
     "text": [
      "Coeficiente  entre BTC y DOGE: 0.6486123501564895\n"
     ]
    }
   ],
   "source": [
    "df_bitcoin['Date'] = pd.to_datetime(df_bitcoin['Date'])\n",
    "df_dogecoin['Date'] = pd.to_datetime(df_dogecoin['Date'])\n",
    "\n",
    "df_merged = pd.merge(df_bitcoin, df_dogecoin, on='Date', suffixes=('_btc', '_doge'))\n",
    "btc_precio = df_merged['High_btc']\n",
    "doge_precio = df_merged['High_doge']\n",
    "\n",
    "corr, _ = pearsonr(btc_precio, doge_precio)\n",
    "print(f\"Coeficiente  entre BTC y DOGE: {corr}\")"
   ]
  },
  {
   "cell_type": "code",
   "execution_count": 12,
   "metadata": {},
   "outputs": [
    {
     "data": {
      "image/png": "[encoded data removed]",
      "text/plain": [
       "<Figure size 800x600 with 1 Axes>"
      ]
     },
     "metadata": {},
     "output_type": "display_data"
    }
   ],
   "source": [
    "plt.figure(figsize=(8, 6))\n",
    "sns.scatterplot(x=btc_precio, y=doge_precio, color='blue', alpha=0.6)\n",
    "plt.title(f'Correlación de Pearson: {corr:.2f}', fontsize=14)\n",
    "plt.xlabel('Precio BTC', fontsize=12)\n",
    "plt.ylabel('Precio DOGE', fontsize=12)\n",
    "plt.show()"
   ]
  },
  {
   "cell_type": "markdown",
   "metadata": {},
   "source": [
    "### CALCULO DEL TIEMPO ENTRE BTC Y ETH "
   ]
  },
  {
   "cell_type": "code",
   "execution_count": 13,
   "metadata": {},
   "outputs": [
    {
     "name": "stdout",
     "output_type": "stream",
     "text": [
      "                BTC Date           DOGE Date  Tiempo de diferencia (dias)\n",
      "0    2013-12-19 23:59:59 2013-12-19 23:59:59                            0\n",
      "1    2013-12-22 23:59:59 2013-12-23 23:59:59                            1\n",
      "2    2013-12-23 23:59:59 2013-12-23 23:59:59                            0\n",
      "3    2013-12-25 23:59:59 2013-12-24 23:59:59                            1\n",
      "4    2013-12-26 23:59:59 2013-12-26 23:59:59                            0\n",
      "...                  ...                 ...                          ...\n",
      "1473 2021-06-29 23:59:59 2021-06-29 23:59:59                            0\n",
      "1474 2021-07-02 23:59:59 2021-07-02 23:59:59                            0\n",
      "1475 2021-07-03 23:59:59 2021-07-03 23:59:59                            0\n",
      "1476 2021-07-04 23:59:59 2021-07-04 23:59:59                            0\n",
      "1477 2021-07-06 23:59:59 2021-07-06 23:59:59                            0\n",
      "\n",
      "[1478 rows x 3 columns]\n"
     ]
    }
   ],
   "source": [
    "df_bitcoin['Date'] = pd.to_datetime(df_bitcoin['Date'])\n",
    "df_dogecoin['Date'] = pd.to_datetime(df_dogecoin['Date'])\n",
    "df_merged = pd.merge(df_bitcoin, df_dogecoin, on='Date', suffixes=('_btc', '_doge'))\n",
    "df_merged['btc_change'] = df_merged['Close_btc'].diff()\n",
    "df_merged['doge_change'] = df_merged['Close_doge'].diff()\n",
    "\n",
    "btc_up_dates = df_merged[df_merged['btc_change'] > 0]['Date']\n",
    "doge_up_dates = df_merged[df_merged['doge_change'] > 0]['Date']\n",
    "\n",
    "time_diffs = []\n",
    "for btc_date in btc_up_dates:\n",
    "    nearest_doge_date = doge_up_dates.iloc[(doge_up_dates - btc_date).abs().argmin()]\n",
    "    time_diff = abs((nearest_doge_date - btc_date).days)\n",
    "    time_diffs.append({'BTC Date': btc_date, 'DOGE Date': nearest_doge_date, 'Tiempo de diferencia (dias)': time_diff})\n",
    "\n",
    "time_diffs_df = pd.DataFrame(time_diffs)\n",
    "print(time_diffs_df)"
   ]
  }
 ],
 "metadata": {
  "kernelspec": {
   "display_name": "Python 3",
   "language": "python",
   "name": "python3"
  },
  "language_info": {
   "codemirror_mode": {
    "name": "ipython",
    "version": 3
   },
   "file_extension": ".py",
   "mimetype": "text/x-python",
   "name": "python",
   "nbconvert_exporter": "python",
   "pygments_lexer": "ipython3",
   "version": "3.9.6"
  }
 },
 "nbformat": 4,
 "nbformat_minor": 2
}
